{
 "cells": [
  {
   "cell_type": "markdown",
   "id": "24123c0f-3e9e-451d-bcc6-57dd7edffd42",
   "metadata": {},
   "source": [
    "# RailTrack Cloud | Stage 1: Dataset Simulation\n",
    "\n",
    "This notebook generates **synthetic railcar operation data** for use in later Azure + Power BI pipeline stages.  \n",
    "It represents the first step in the **RailTrack Cloud Data Engineering Project**, which demonstrates how data moves from local simulation → Azure Blob → Azure SQL → Power BI dashboard.\n",
    "\n",
    "---\n",
    "\n",
    "**Objectives**\n",
    "- Simulate realistic daily railcar data  \n",
    "- Prepare dataset for Azure ingestion  \n",
    "- Validate and export as CSV for pipeline use\n",
    "\n",
    "**Generated Features**\n",
    "| Column | Description |\n",
    "|:--------|:-------------|\n",
    "| `date` | Calendar date of record |\n",
    "| `railcar_id` | Unique railcar identifier |\n",
    "| `distance_km` | Daily distance traveled (km) |\n",
    "| `fuel_used_l` | Fuel used (liters) |\n",
    "| `temperature_c` | Average operating temperature (°C) |\n",
    "| `maintenance_flag` | 1 = maintenance performed, 0 = normal |\n"
   ]
  },
  {
   "cell_type": "code",
   "execution_count": 11,
   "id": "24973d12-591e-48aa-a87e-fb34c6f04180",
   "metadata": {},
   "outputs": [],
   "source": [
    "# ===============================================================\n",
    "# RAILTRACK CLOUD - DATASET SIMULATION\n",
    "# ---------------------------------------------------------------\n",
    "# Purpose: Generate synthetic railcar operation data for use in\n",
    "#          later Azure + Power BI pipeline stages.\n",
    "# ===============================================================\n",
    "\n",
    "# --- 1. Import Libraries ---\n",
    "import pandas as pd\n",
    "import numpy as np\n",
    "import random\n",
    "from datetime import datetime, timedelta\n",
    "import os"
   ]
  },
  {
   "cell_type": "markdown",
   "id": "e8563aee-deb3-4453-b740-a2e854759ac7",
   "metadata": {},
   "source": [
    "## Define Simulation Parameters\n",
    "\n",
    "We’ll specify the number of railcars, total simulation days, and the starting date for data generation."
   ]
  },
  {
   "cell_type": "code",
   "execution_count": 12,
   "id": "c6807636-4abe-4714-97da-91c19a64b3ff",
   "metadata": {},
   "outputs": [],
   "source": [
    "# --- 2. Simulation Parameters ---\n",
    "num_railcars = 15       # total number of railcars\n",
    "num_days = 60           # number of days to simulate\n",
    "start_date = datetime(2025, 1, 1)   # start date for simulation"
   ]
  },
  {
   "cell_type": "markdown",
   "id": "99562e18-0308-4fcb-8a99-70051d130a65",
   "metadata": {},
   "source": [
    "## Create Railcar ID List\n",
    "\n",
    "Each railcar receives a unique ID in the format `RC001`, `RC002`, etc."
   ]
  },
  {
   "cell_type": "code",
   "execution_count": 13,
   "id": "fe434a69-4ca6-4911-86c3-0a5857b74c72",
   "metadata": {},
   "outputs": [],
   "source": [
    "# --- 3. Create Railcar ID List ---\n",
    "railcar_ids = [f\"RC{str(i).zfill(3)}\" for i in range(1, num_railcars + 1)]"
   ]
  },
  {
   "cell_type": "markdown",
   "id": "9bc305ec-2b92-4957-a730-973447cd6e90",
   "metadata": {},
   "source": [
    "## Generate Daily Data Records\n",
    "\n",
    "For each railcar and each simulated day:\n",
    "- Distance is randomized between 50–200 km  \n",
    "- Fuel consumption ≈ 0.6–0.8 L/km  \n",
    "- Temperature fluctuates between 15–40°C  \n",
    "- Maintenance occurs with ~3% probability"
   ]
  },
  {
   "cell_type": "code",
   "execution_count": 14,
   "id": "df36adea-20cd-4826-ba0f-3714a3069b37",
   "metadata": {},
   "outputs": [],
   "source": [
    "# --- 4. Generate Data ---\n",
    "data = []\n",
    "\n",
    "for day in range(num_days):\n",
    "    date = start_date + timedelta(days=day)\n",
    "    for rc in railcar_ids:\n",
    "        distance = round(random.uniform(50, 200), 2)  # km traveled\n",
    "        fuel_used = round(distance * random.uniform(0.6, 0.8), 2)  # fuel ≈ 0.6–0.8 L/km\n",
    "        temp = round(random.uniform(15, 40), 1)       # avg temperature\n",
    "        maintenance_flag = 1 if random.random() < 0.03 else 0  # ~3 % chance of maintenance\n",
    "\n",
    "        data.append([date.date(), rc, distance, fuel_used, temp, maintenance_flag])"
   ]
  },
  {
   "cell_type": "markdown",
   "id": "64a6641d-4e29-4760-962d-7a0595b239cc",
   "metadata": {},
   "source": [
    "## Create and Inspect DataFrame\n",
    "\n",
    "Convert the generated list into a pandas DataFrame and inspect the results."
   ]
  },
  {
   "cell_type": "code",
   "execution_count": 18,
   "id": "e63c7dc0-9643-471b-a9f0-2dd83c1d6816",
   "metadata": {},
   "outputs": [
    {
     "name": "stdout",
     "output_type": "stream",
     "text": [
      "Preview of Simulated Data:\n"
     ]
    },
    {
     "data": {
      "text/html": [
       "<div>\n",
       "<style scoped>\n",
       "    .dataframe tbody tr th:only-of-type {\n",
       "        vertical-align: middle;\n",
       "    }\n",
       "\n",
       "    .dataframe tbody tr th {\n",
       "        vertical-align: top;\n",
       "    }\n",
       "\n",
       "    .dataframe thead th {\n",
       "        text-align: right;\n",
       "    }\n",
       "</style>\n",
       "<table border=\"1\" class=\"dataframe\">\n",
       "  <thead>\n",
       "    <tr style=\"text-align: right;\">\n",
       "      <th></th>\n",
       "      <th>date</th>\n",
       "      <th>railcar_id</th>\n",
       "      <th>distance_km</th>\n",
       "      <th>fuel_used_l</th>\n",
       "      <th>temperature_c</th>\n",
       "      <th>maintenance_flag</th>\n",
       "    </tr>\n",
       "  </thead>\n",
       "  <tbody>\n",
       "    <tr>\n",
       "      <th>0</th>\n",
       "      <td>2025-01-01</td>\n",
       "      <td>RC001</td>\n",
       "      <td>194.17</td>\n",
       "      <td>127.73</td>\n",
       "      <td>30.3</td>\n",
       "      <td>0</td>\n",
       "    </tr>\n",
       "    <tr>\n",
       "      <th>1</th>\n",
       "      <td>2025-01-01</td>\n",
       "      <td>RC002</td>\n",
       "      <td>62.11</td>\n",
       "      <td>38.11</td>\n",
       "      <td>38.0</td>\n",
       "      <td>0</td>\n",
       "    </tr>\n",
       "    <tr>\n",
       "      <th>2</th>\n",
       "      <td>2025-01-01</td>\n",
       "      <td>RC003</td>\n",
       "      <td>184.51</td>\n",
       "      <td>129.84</td>\n",
       "      <td>27.4</td>\n",
       "      <td>0</td>\n",
       "    </tr>\n",
       "    <tr>\n",
       "      <th>3</th>\n",
       "      <td>2025-01-01</td>\n",
       "      <td>RC004</td>\n",
       "      <td>139.35</td>\n",
       "      <td>108.61</td>\n",
       "      <td>18.4</td>\n",
       "      <td>0</td>\n",
       "    </tr>\n",
       "    <tr>\n",
       "      <th>4</th>\n",
       "      <td>2025-01-01</td>\n",
       "      <td>RC005</td>\n",
       "      <td>135.79</td>\n",
       "      <td>104.51</td>\n",
       "      <td>27.9</td>\n",
       "      <td>0</td>\n",
       "    </tr>\n",
       "  </tbody>\n",
       "</table>\n",
       "</div>"
      ],
      "text/plain": [
       "         date railcar_id  distance_km  fuel_used_l  temperature_c  \\\n",
       "0  2025-01-01      RC001       194.17       127.73           30.3   \n",
       "1  2025-01-01      RC002        62.11        38.11           38.0   \n",
       "2  2025-01-01      RC003       184.51       129.84           27.4   \n",
       "3  2025-01-01      RC004       139.35       108.61           18.4   \n",
       "4  2025-01-01      RC005       135.79       104.51           27.9   \n",
       "\n",
       "   maintenance_flag  \n",
       "0                 0  \n",
       "1                 0  \n",
       "2                 0  \n",
       "3                 0  \n",
       "4                 0  "
      ]
     },
     "metadata": {},
     "output_type": "display_data"
    },
    {
     "name": "stdout",
     "output_type": "stream",
     "text": [
      "\n",
      "Dataset Summary:\n",
      "<class 'pandas.core.frame.DataFrame'>\n",
      "RangeIndex: 900 entries, 0 to 899\n",
      "Data columns (total 6 columns):\n",
      " #   Column            Non-Null Count  Dtype  \n",
      "---  ------            --------------  -----  \n",
      " 0   date              900 non-null    object \n",
      " 1   railcar_id        900 non-null    object \n",
      " 2   distance_km       900 non-null    float64\n",
      " 3   fuel_used_l       900 non-null    float64\n",
      " 4   temperature_c     900 non-null    float64\n",
      " 5   maintenance_flag  900 non-null    int64  \n",
      "dtypes: float64(3), int64(1), object(2)\n",
      "memory usage: 42.3+ KB\n",
      "\n",
      "Statistical Overview:\n"
     ]
    },
    {
     "data": {
      "text/html": [
       "<div>\n",
       "<style scoped>\n",
       "    .dataframe tbody tr th:only-of-type {\n",
       "        vertical-align: middle;\n",
       "    }\n",
       "\n",
       "    .dataframe tbody tr th {\n",
       "        vertical-align: top;\n",
       "    }\n",
       "\n",
       "    .dataframe thead th {\n",
       "        text-align: right;\n",
       "    }\n",
       "</style>\n",
       "<table border=\"1\" class=\"dataframe\">\n",
       "  <thead>\n",
       "    <tr style=\"text-align: right;\">\n",
       "      <th></th>\n",
       "      <th>distance_km</th>\n",
       "      <th>fuel_used_l</th>\n",
       "      <th>temperature_c</th>\n",
       "      <th>maintenance_flag</th>\n",
       "    </tr>\n",
       "  </thead>\n",
       "  <tbody>\n",
       "    <tr>\n",
       "      <th>count</th>\n",
       "      <td>900.000000</td>\n",
       "      <td>900.000000</td>\n",
       "      <td>900.000000</td>\n",
       "      <td>900.000000</td>\n",
       "    </tr>\n",
       "    <tr>\n",
       "      <th>mean</th>\n",
       "      <td>122.387533</td>\n",
       "      <td>85.342100</td>\n",
       "      <td>27.433444</td>\n",
       "      <td>0.022222</td>\n",
       "    </tr>\n",
       "    <tr>\n",
       "      <th>std</th>\n",
       "      <td>44.261087</td>\n",
       "      <td>31.473331</td>\n",
       "      <td>7.023626</td>\n",
       "      <td>0.147488</td>\n",
       "    </tr>\n",
       "    <tr>\n",
       "      <th>min</th>\n",
       "      <td>50.040000</td>\n",
       "      <td>31.060000</td>\n",
       "      <td>15.000000</td>\n",
       "      <td>0.000000</td>\n",
       "    </tr>\n",
       "    <tr>\n",
       "      <th>25%</th>\n",
       "      <td>84.212500</td>\n",
       "      <td>59.717500</td>\n",
       "      <td>21.775000</td>\n",
       "      <td>0.000000</td>\n",
       "    </tr>\n",
       "    <tr>\n",
       "      <th>50%</th>\n",
       "      <td>120.035000</td>\n",
       "      <td>82.190000</td>\n",
       "      <td>27.300000</td>\n",
       "      <td>0.000000</td>\n",
       "    </tr>\n",
       "    <tr>\n",
       "      <th>75%</th>\n",
       "      <td>162.445000</td>\n",
       "      <td>110.852500</td>\n",
       "      <td>33.225000</td>\n",
       "      <td>0.000000</td>\n",
       "    </tr>\n",
       "    <tr>\n",
       "      <th>max</th>\n",
       "      <td>199.980000</td>\n",
       "      <td>156.540000</td>\n",
       "      <td>40.000000</td>\n",
       "      <td>1.000000</td>\n",
       "    </tr>\n",
       "  </tbody>\n",
       "</table>\n",
       "</div>"
      ],
      "text/plain": [
       "       distance_km  fuel_used_l  temperature_c  maintenance_flag\n",
       "count   900.000000   900.000000     900.000000        900.000000\n",
       "mean    122.387533    85.342100      27.433444          0.022222\n",
       "std      44.261087    31.473331       7.023626          0.147488\n",
       "min      50.040000    31.060000      15.000000          0.000000\n",
       "25%      84.212500    59.717500      21.775000          0.000000\n",
       "50%     120.035000    82.190000      27.300000          0.000000\n",
       "75%     162.445000   110.852500      33.225000          0.000000\n",
       "max     199.980000   156.540000      40.000000          1.000000"
      ]
     },
     "metadata": {},
     "output_type": "display_data"
    }
   ],
   "source": [
    "# --- 5. Create DataFrame ---\n",
    "df = pd.DataFrame(data, columns=[\n",
    "    \"date\", \"railcar_id\", \"distance_km\", \"fuel_used_l\",\n",
    "    \"temperature_c\", \"maintenance_flag\"\n",
    "])\n",
    "\n",
    "# --- 6. Inspect Dataset ---\n",
    "print(\"Preview of Simulated Data:\")\n",
    "display(df.head())\n",
    "\n",
    "print(\"\\nDataset Summary:\")\n",
    "df.info()\n",
    "\n",
    "print(\"\\nStatistical Overview:\")\n",
    "display(df.describe())"
   ]
  },
  {
   "cell_type": "markdown",
   "id": "2e96d93e-ca42-4631-86fb-374963987969",
   "metadata": {},
   "source": [
    "## Validate Dataset\n",
    "\n",
    "Check total records, number of unique railcars, and ensure no missing values exist."
   ]
  },
  {
   "cell_type": "code",
   "execution_count": 16,
   "id": "25bab34a-cf59-44f9-afa3-add052aff879",
   "metadata": {},
   "outputs": [
    {
     "name": "stdout",
     "output_type": "stream",
     "text": [
      "\n",
      "Total Records: 900  |  Unique Railcars: 15\n"
     ]
    }
   ],
   "source": [
    "# --- 7. Verify Row Count ---\n",
    "unique_cars = df[\"railcar_id\"].nunique()\n",
    "rows = len(df)\n",
    "print(f\"\\nTotal Records: {rows}  |  Unique Railcars: {unique_cars}\")"
   ]
  },
  {
   "cell_type": "markdown",
   "id": "b46dfada-a8aa-432f-b9c1-fb0cb991ecd3",
   "metadata": {},
   "source": [
    "## Export Dataset to CSV\n",
    "\n",
    "Finally, we’ll save the dataset into a clean `data/raw/` folder, ready to upload to **Azure Blob Storage** in Stage 2.\n"
   ]
  },
  {
   "cell_type": "code",
   "execution_count": 17,
   "id": "bbe2ae70-586e-481c-8dda-d3587939449a",
   "metadata": {},
   "outputs": [
    {
     "name": "stdout",
     "output_type": "stream",
     "text": [
      "\n",
      " Dataset saved successfully to: C:\\Users\\j1wad\\OneDrive - McMaster University\\RailTrack-Cloud\\notebooks\\data\\raw\\railcar_data.csv\n"
     ]
    }
   ],
   "source": [
    "# --- 8. Save to CSV ---\n",
    "os.makedirs(\"data/raw\", exist_ok=True)\n",
    "\n",
    "csv_path = \"data/raw/railcar_data.csv\"\n",
    "df.to_csv(csv_path, index=False)\n",
    "\n",
    "print(f\"\\n Dataset saved successfully to: {os.path.abspath(csv_path)}\")"
   ]
  }
 ],
 "metadata": {
  "kernelspec": {
   "display_name": "Python [conda env:base] *",
   "language": "python",
   "name": "conda-base-py"
  },
  "language_info": {
   "codemirror_mode": {
    "name": "ipython",
    "version": 3
   },
   "file_extension": ".py",
   "mimetype": "text/x-python",
   "name": "python",
   "nbconvert_exporter": "python",
   "pygments_lexer": "ipython3",
   "version": "3.13.5"
  }
 },
 "nbformat": 4,
 "nbformat_minor": 5
}
